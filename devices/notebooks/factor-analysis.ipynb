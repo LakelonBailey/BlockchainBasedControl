{
 "cells": [
  {
   "cell_type": "code",
   "execution_count": 1,
   "metadata": {},
   "outputs": [
    {
     "name": "stdout",
     "output_type": "stream",
     "text": [
      "+------+--------+------------+\n",
      "| Hour | Solar  | Peak Hours |\n",
      "+------+--------+------------+\n",
      "|  0   |   0    |    1.0     |\n",
      "|  1   |   0    |    1.0     |\n",
      "|  2   |   0    |    1.0     |\n",
      "|  3   |   0    |    1.0     |\n",
      "|  4   |   0    |    1.0     |\n",
      "|  5   |   0    |    1.0     |\n",
      "|  6   |  0.25  |    1.0     |\n",
      "|  7   | 0.3706 |    1.0     |\n",
      "|  8   |  0.5   |    1.0     |\n",
      "|  9   | 0.6294 |    1.0     |\n",
      "|  10  | 0.375  |    1.0     |\n",
      "|  11  | 0.8536 |    1.0     |\n",
      "|  12  | 0.933  |    1.0     |\n",
      "|  13  | 0.983  |    1.0     |\n",
      "|  14  |  1.0   |    1.0     |\n",
      "|  15  | 0.983  |    1.0     |\n",
      "|  16  | 0.933  |    1.0     |\n",
      "|  17  | 0.8536 |    1.5     |\n",
      "|  18  |  0.75  |    1.5     |\n",
      "|  19  |   0    |    1.5     |\n",
      "|  20  |   0    |    1.5     |\n",
      "|  21  |   0    |    1.5     |\n",
      "|  22  |   0    |    1.0     |\n",
      "|  23  |   0    |    1.0     |\n",
      "+------+--------+------------+\n"
     ]
    }
   ],
   "source": [
    "import sys\n",
    "from prettytable import PrettyTable\n",
    "\n",
    "sys.path.append('../')\n",
    "from src.lib.general.energy_factors import SolarFactor, PeakHoursFactor\n",
    "from src.lib.production.devices import SmallSolarPanel, LargeSolarArray, ResidentialWindTurbine, IndustrialWindTurbine, HydroPowerPlant, DieselGenerator, IndustrialBackupGenerator\n",
    "\n",
    "energy_factors_considered = [SolarFactor(), PeakHoursFactor()]\n",
    "pt = PrettyTable(['Hour', *[factor.name for factor in energy_factors_considered]])\n",
    "\n",
    "\n",
    "solar_factor = SolarFactor()\n",
    "peak_hour_factor = PeakHoursFactor()\n",
    "hours = range(0, 24)\n",
    "for hour in hours:\n",
    "    context = {'hour': hour}\n",
    "    pt.add_row([hour, round(solar_factor.get_multiplier(context), 4), round(peak_hour_factor.get_multiplier(context), 4)])\n",
    "\n",
    "print(pt)"
   ]
  },
  {
   "cell_type": "code",
   "execution_count": 2,
   "metadata": {},
   "outputs": [
    {
     "name": "stdout",
     "output_type": "stream",
     "text": [
      "Small Solar Panel Production at 3PM: 0.29 kW\n",
      "Large Solar Array Production at 3PM: 7.37 kW\n",
      "Residential Wind Turbine Production at 3PM: 3.03 kW\n",
      "Industrial Wind Turbine Production at 3PM: 9.10 kW\n",
      "Hydro Power Plant Production at 3PM: 50.00 kW\n",
      "Diesel Generator Production at 3PM: 10.00 kW\n",
      "Industrial Backup Generator Production at 3PM: 100.00 kW\n"
     ]
    }
   ],
   "source": [
    "# Create all production devices\n",
    "devices = [\n",
    "    SmallSolarPanel(),\n",
    "    LargeSolarArray(),\n",
    "    ResidentialWindTurbine(),\n",
    "    IndustrialWindTurbine(),\n",
    "    HydroPowerPlant(),\n",
    "    DieselGenerator(),\n",
    "    IndustrialBackupGenerator(),\n",
    "]\n",
    "\n",
    "# Simulate energy production for each device at 3 PM on a windy day\n",
    "context = {\"hour\": 15, \"wind_speed\": 18, \"month\": 7}\n",
    "\n",
    "for device in devices:\n",
    "    production = device.calculate_kw(context)\n",
    "    print(f\"{device.name} Production at 3PM: {production:.2f} kW\")\n"
   ]
  },
  {
   "cell_type": "code",
   "execution_count": null,
   "metadata": {},
   "outputs": [],
   "source": []
  }
 ],
 "metadata": {
  "kernelspec": {
   "display_name": ".venv",
   "language": "python",
   "name": "python3"
  },
  "language_info": {
   "codemirror_mode": {
    "name": "ipython",
    "version": 3
   },
   "file_extension": ".py",
   "mimetype": "text/x-python",
   "name": "python",
   "nbconvert_exporter": "python",
   "pygments_lexer": "ipython3",
   "version": "3.12.1"
  }
 },
 "nbformat": 4,
 "nbformat_minor": 2
}
